{
 "cells": [
  {
   "cell_type": "code",
   "execution_count": 258,
   "metadata": {},
   "outputs": [],
   "source": [
    "# train neural network model for covertype dataset\n",
    "# import pytorch\n",
    "import torch \n",
    "import torch.nn as nn \n",
    "from sklearn.preprocessing import StandardScaler\n",
    "from sklearn.metrics import precision_score, recall_score"
   ]
  },
  {
   "cell_type": "code",
   "execution_count": 259,
   "metadata": {},
   "outputs": [],
   "source": [
    "class CovertypeClassifier(nn.Module):\n",
    "\n",
    "    # define nn architecture\n",
    "    def __init__(self):\n",
    "        super().__init__()\n",
    "        # 54 dimensions and 7 classes\n",
    "        self.layer1 = nn.Linear(54, 64)\n",
    "        self.activation1 = nn.ReLU()\n",
    "        self.layer2 = nn.Linear(64, 128)\n",
    "        self.activation2 = nn.ReLU()\n",
    "        self.layer3 = nn.Linear(128, 64)\n",
    "        self.activation3 = nn.ReLU()\n",
    "        self.final_layer = nn.Linear(64, 7)\n",
    "        self.softmax = nn.Softmax(dim=1)\n",
    "\n",
    "    def forward(self, x):\n",
    "        x = self.layer1(x)\n",
    "        x = self.activation1(x)\n",
    "        x = self.layer2(x)\n",
    "        x = self.activation2(x)\n",
    "        x = self.layer3(x)\n",
    "        x = self.activation3(x)\n",
    "        x = self.final_layer(x)\n",
    "        x = self.softmax(x)\n",
    "\n",
    "        return x"
   ]
  },
  {
   "cell_type": "code",
   "execution_count": 260,
   "metadata": {},
   "outputs": [
    {
     "data": {
      "text/plain": [
       "CovertypeClassifier(\n",
       "  (layer1): Linear(in_features=54, out_features=64, bias=True)\n",
       "  (activation1): ReLU()\n",
       "  (layer2): Linear(in_features=64, out_features=128, bias=True)\n",
       "  (activation2): ReLU()\n",
       "  (layer3): Linear(in_features=128, out_features=64, bias=True)\n",
       "  (activation3): ReLU()\n",
       "  (final_layer): Linear(in_features=64, out_features=7, bias=True)\n",
       "  (softmax): Softmax(dim=1)\n",
       ")"
      ]
     },
     "execution_count": 260,
     "metadata": {},
     "output_type": "execute_result"
    }
   ],
   "source": [
    "net = CovertypeClassifier()\n",
    "net"
   ]
  },
  {
   "cell_type": "code",
   "execution_count": 261,
   "metadata": {},
   "outputs": [],
   "source": [
    "# fetch data \n",
    "\n",
    "from sklearn.datasets import fetch_covtype\n",
    "\n",
    "# load dataset\n",
    "covertype = fetch_covtype()\n",
    "\n",
    "# separate features and labels\n",
    "X = covertype.data\n",
    "y = covertype.target"
   ]
  },
  {
   "cell_type": "code",
   "execution_count": 262,
   "metadata": {},
   "outputs": [],
   "source": [
    "# split dataset into train and test sets\n",
    "from sklearn.model_selection import train_test_split\n",
    "\n",
    "X_train, X_test, y_train, y_test = train_test_split(X, y, test_size= 0.2, shuffle=True)\n"
   ]
  },
  {
   "cell_type": "code",
   "execution_count": 263,
   "metadata": {},
   "outputs": [],
   "source": [
    "from sklearn.preprocessing import OneHotEncoder\n",
    "\n",
    "encoder = OneHotEncoder()\n",
    "\n",
    "y_train_encoded = encoder.fit_transform(y_train.reshape(-1, 1))\n",
    "y_test_encoded = encoder.fit_transform(y_test.reshape(-1, 1))\n"
   ]
  },
  {
   "cell_type": "code",
   "execution_count": 264,
   "metadata": {},
   "outputs": [
    {
     "data": {
      "text/plain": [
       "torch.Size([464809, 7])"
      ]
     },
     "execution_count": 264,
     "metadata": {},
     "output_type": "execute_result"
    }
   ],
   "source": [
    "# convert data to pytorch tensors \n",
    "from torch.utils.data import TensorDataset, DataLoader\n",
    "import torch.nn.functional as F\n",
    "\n",
    "X_train_tensor = torch.tensor(X_train).float()\n",
    "X_test_tensor = torch.tensor(X_test).float()\n",
    "y_train_tensor = torch.tensor(y_train_encoded.toarray())\n",
    "y_test_tensor = torch.tensor(y_test_encoded.toarray())\n",
    "\n",
    "y_train_tensor.shape\n",
    "\n",
    "# print(y_train_tensor)\n"
   ]
  },
  {
   "cell_type": "code",
   "execution_count": 265,
   "metadata": {},
   "outputs": [
    {
     "data": {
      "text/plain": [
       "array([1, 3, 1, ..., 1, 3, 3])"
      ]
     },
     "execution_count": 265,
     "metadata": {},
     "output_type": "execute_result"
    }
   ],
   "source": [
    "y_test"
   ]
  },
  {
   "cell_type": "code",
   "execution_count": 266,
   "metadata": {},
   "outputs": [],
   "source": [
    "# define training and test dataset \n",
    "\n",
    "train_dataset = TensorDataset(X_train_tensor, y_train_tensor)\n",
    "test_dataset = TensorDataset(X_test_tensor, y_test_tensor)\n",
    "\n",
    "# define dataloader\n",
    "\n",
    "train_loader = DataLoader(train_dataset, batch_size=32, shuffle=True)\n",
    "test_loader = DataLoader(test_dataset, batch_size=32, shuffle=True)"
   ]
  },
  {
   "cell_type": "code",
   "execution_count": 267,
   "metadata": {},
   "outputs": [
    {
     "name": "stdout",
     "output_type": "stream",
     "text": [
      "cuda:0\n"
     ]
    }
   ],
   "source": [
    "device = torch.device(\"cuda:0\") if torch.cuda.is_available() else torch.device(\"cpu\") # koristimo gpu samo ako je dostupan, inace koristimo cpu\n",
    "print(device)\n",
    "net = CovertypeClassifier().to(device) # we set defice for our model"
   ]
  },
  {
   "cell_type": "code",
   "execution_count": 274,
   "metadata": {},
   "outputs": [],
   "source": [
    "import numpy as np\n",
    "\n",
    "# method that counts precision for model using sklearn library\n",
    "\n",
    "\n",
    "def calculate_recall_precission(model, test_loader):\n",
    "    model.eval()  # Set the model to evaluation mode\n",
    "    y_true = []\n",
    "    y_pred = []\n",
    "\n",
    "    with torch.no_grad():\n",
    "        for input, label in test_loader:\n",
    "            input = input.to(device) \n",
    "            label = label.to(device) # labels are one hot encoded\n",
    "            outputs = model(input) # output has 7 classes \n",
    "           # _,predicted_class = torch.max(outputs.cpu(),1) # we take the class with highest probability\n",
    "            label_class = torch.argmax(label.cpu())\n",
    "            predicted_class = torch.argmax(outputs.cpu())\n",
    "            y_true.append(label_class.numpy())\n",
    "            y_pred.append(predicted_class.numpy())\n",
    "            \n",
    "\n",
    "    precision = precision_score(y_true, y_pred, average='macro')\n",
    "    recall = recall_score(y_true, y_pred, average='macro')\n",
    "    print(precision)\n",
    "    print(recall)\n",
    "    "
   ]
  },
  {
   "cell_type": "code",
   "execution_count": 269,
   "metadata": {},
   "outputs": [],
   "source": [
    "# optimizer class\n",
    "optimizer = torch.optim.Adam(net.parameters(), lr=1e-3)\n",
    "\n",
    "# loss function for multiclass classification\n",
    "loss_function = nn.CrossEntropyLoss()\n"
   ]
  },
  {
   "cell_type": "code",
   "execution_count": 276,
   "metadata": {},
   "outputs": [
    {
     "name": "stdout",
     "output_type": "stream",
     "text": [
      "0.004247954688483322\n",
      "0.14285714285714285\n"
     ]
    },
    {
     "name": "stderr",
     "output_type": "stream",
     "text": [
      "c:\\Users\\serge\\AppData\\Local\\Programs\\Python\\Python311\\Lib\\site-packages\\sklearn\\metrics\\_classification.py:1344: UndefinedMetricWarning: Precision is ill-defined and being set to 0.0 in labels with no predicted samples. Use `zero_division` parameter to control this behavior.\n",
      "  _warn_prf(average, modifier, msg_start, len(result))\n"
     ]
    }
   ],
   "source": [
    "# calculate metrics before training\n",
    "calculate_recall_precission(net, test_loader)"
   ]
  },
  {
   "cell_type": "code",
   "execution_count": 277,
   "metadata": {},
   "outputs": [
    {
     "name": "stdout",
     "output_type": "stream",
     "text": [
      "Epoch:  0\n",
      "Epoch:  5\n"
     ]
    }
   ],
   "source": [
    "# train network \n",
    "\n",
    "net.train()\n",
    "epochs = 7\n",
    "\n",
    "for epoch in range(epochs):\n",
    "    if epoch % 5 == 0:\n",
    "        print(\"Epoch: \", epoch)\n",
    "    \n",
    "    for inputs, labels in train_loader:\n",
    "        inputs = inputs.to(device)\n",
    "        labels = labels.to(device)\n",
    "        \n",
    "        outputs = net(inputs)\n",
    "        #print(labels.shape)\n",
    "\n",
    "        loss = loss_function(outputs, labels)\n",
    "        loss.backward()\n",
    "        optimizer.step()"
   ]
  },
  {
   "cell_type": "code",
   "execution_count": 278,
   "metadata": {},
   "outputs": [
    {
     "name": "stdout",
     "output_type": "stream",
     "text": [
      "0.004641283826305853\n",
      "0.14285714285714285\n"
     ]
    },
    {
     "name": "stderr",
     "output_type": "stream",
     "text": [
      "c:\\Users\\serge\\AppData\\Local\\Programs\\Python\\Python311\\Lib\\site-packages\\sklearn\\metrics\\_classification.py:1344: UndefinedMetricWarning: Precision is ill-defined and being set to 0.0 in labels with no predicted samples. Use `zero_division` parameter to control this behavior.\n",
      "  _warn_prf(average, modifier, msg_start, len(result))\n"
     ]
    }
   ],
   "source": [
    "calculate_recall_precission(net, test_loader)"
   ]
  },
  {
   "cell_type": "code",
   "execution_count": 223,
   "metadata": {},
   "outputs": [],
   "source": [
    "# split data to train and test set and split test set to test and validation set\n",
    "\n",
    "covertype = fetch_covtype()\n",
    "\n",
    "X = covertype.data\n",
    "y = covertype.target\n",
    "\n",
    "X_train, X_test, y_train, y_test = train_test_split(X, y, test_size= 0.3, shuffle=True)\n",
    "\n",
    "# now we split test set for validation set\n",
    "\n",
    "X_val, X_test, y_val, y_test = train_test_split(X_test, y_test, test_size= 0.5, shuffle=True)\n",
    "\n",
    "# one hot encoding for labels\n",
    "\n",
    "y_train_encoded = encoder.fit_transform(y_train.reshape(-1, 1))\n",
    "y_val_encoded = encoder.fit_transform(y_val.reshape(-1, 1))\n",
    "\n",
    "\n"
   ]
  },
  {
   "cell_type": "code",
   "execution_count": 224,
   "metadata": {},
   "outputs": [],
   "source": [
    "# create tensors from data\n",
    "x_train_tensor = torch.tensor(X_train).float()\n",
    "x_val_tensor = torch.tensor(X_val).float()\n",
    "\n",
    "y_train_tensor = torch.tensor(y_train_encoded.toarray())\n",
    "y_val_tensor = torch.tensor(y_val_encoded.toarray())\n"
   ]
  },
  {
   "cell_type": "code",
   "execution_count": 225,
   "metadata": {},
   "outputs": [],
   "source": [
    "# create dataset and dataloader\n",
    "\n",
    "train_dataset = TensorDataset(x_train_tensor, y_train_tensor)\n",
    "val_dataset = TensorDataset(x_val_tensor, y_val_tensor)\n",
    "\n",
    "train_loader = DataLoader(train_dataset, batch_size=32, shuffle=True)\n",
    "val_loader = DataLoader(val_dataset, batch_size=32, shuffle=True)"
   ]
  },
  {
   "cell_type": "code",
   "execution_count": 226,
   "metadata": {},
   "outputs": [],
   "source": [
    "# validation \n",
    "\n",
    "def validation(model, val_loader):\n",
    "    model.eval()\n",
    "    val_loss = 0\n",
    "    \n",
    "    with torch.no_grad():\n",
    "        for input, label in val_loader:\n",
    "            input = input.to(device)\n",
    "            label = label.to(device)\n",
    "            prediction = model(input)\n",
    "            loss = loss_function(prediction, label)\n",
    "            val_loss += loss.item()\n",
    "\n",
    "    return val_loss / len(val_loader)\n"
   ]
  },
  {
   "cell_type": "code",
   "execution_count": 227,
   "metadata": {},
   "outputs": [
    {
     "name": "stdout",
     "output_type": "stream",
     "text": [
      "Epoch:  0\n",
      "2.1037940807454563\n",
      "2.1037940807454563\n",
      "2.10377113654575\n",
      "2.103782608645603\n",
      "2.1037940807454563\n",
      "Epoch:  5\n",
      "2.1038055528453095\n",
      "Early stopping\n"
     ]
    }
   ],
   "source": [
    "# early stopping implementation\n",
    "\n",
    "net.train()\n",
    "epochs = 20\n",
    "\n",
    "num_of_epochs_without_improvement = 0\n",
    "val_loss_min = np.Inf\n",
    "\n",
    "for epoch in range(epochs):\n",
    "    if epoch % 5 == 0:\n",
    "        print(\"Epoch: \", epoch)\n",
    "    net.train()\n",
    "    \n",
    "    for inputs, labels in train_loader:\n",
    "        inputs = inputs.to(device)\n",
    "        labels = labels.to(device)\n",
    "        \n",
    "        outputs = net(inputs)\n",
    "        loss = loss_function(outputs, labels)\n",
    "        loss.backward()\n",
    "        optimizer.step()\n",
    "    \n",
    "    val_loss = validation(net, val_loader)\n",
    "    print(val_loss)\n",
    "    if val_loss <= val_loss_min:\n",
    "        num_of_epochs_without_improvement = 0\n",
    "        val_loss_min = val_loss\n",
    "    else:\n",
    "        num_of_epochs_without_improvement += 1\n",
    "\n",
    "    if num_of_epochs_without_improvement == 3:\n",
    "        print(\"Early stopping\")\n",
    "        break\n"
   ]
  },
  {
   "cell_type": "code",
   "execution_count": null,
   "metadata": {},
   "outputs": [],
   "source": [
    "# hyperparameter tuning\n",
    "\n"
   ]
  }
 ],
 "metadata": {
  "kernelspec": {
   "display_name": "Python 3",
   "language": "python",
   "name": "python3"
  },
  "language_info": {
   "codemirror_mode": {
    "name": "ipython",
    "version": 3
   },
   "file_extension": ".py",
   "mimetype": "text/x-python",
   "name": "python",
   "nbconvert_exporter": "python",
   "pygments_lexer": "ipython3",
   "version": "3.11.3"
  },
  "orig_nbformat": 4
 },
 "nbformat": 4,
 "nbformat_minor": 2
}
